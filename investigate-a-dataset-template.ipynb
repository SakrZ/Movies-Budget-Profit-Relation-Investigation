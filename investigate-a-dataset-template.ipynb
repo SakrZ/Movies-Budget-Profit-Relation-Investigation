{
 "cells": [
  {
   "cell_type": "markdown",
   "metadata": {},
   "source": [
    "\n",
    "\n",
    "# Investigation of Movies Budget/Profit Relation (using IMDB data)\n",
    "\n",
    "## Table of Contents\n",
    "<ul>\n",
    "<li><a href=\"#intro\">Introduction</a></li>\n",
    "<li><a href=\"#wrangling\">Data Wrangling</a></li>\n",
    "<li><a href=\"#eda\">Exploratory Data Analysis</a></li>\n",
    "<li><a href=\"#conclusions\">Conclusions</a></li>\n",
    "</ul>"
   ]
  },
  {
   "cell_type": "markdown",
   "metadata": {},
   "source": [
    "<a id='intro'></a>\n",
    "## Introduction\n"
   ]
  },
  {
   "cell_type": "code",
   "execution_count": 2,
   "metadata": {},
   "outputs": [],
   "source": [
    "# Importing required packages\n",
    "import pandas as pd\n",
    "import matplotlib as plt\n",
    "import seaborn\n",
    "#import pandoc"
   ]
  },
  {
   "cell_type": "code",
   "execution_count": 3,
   "metadata": {},
   "outputs": [],
   "source": [
    "#import movies csv as dataframe\n",
    "movdf=pd.read_csv('tmdb-movies.csv') #movdf = movies dataframe\n",
    "#magic to have plots in notebook\n",
    "%matplotlib inline "
   ]
  },
  {
   "cell_type": "code",
   "execution_count": 4,
   "metadata": {},
   "outputs": [
    {
     "data": {
      "text/html": [
       "<div>\n",
       "<style scoped>\n",
       "    .dataframe tbody tr th:only-of-type {\n",
       "        vertical-align: middle;\n",
       "    }\n",
       "\n",
       "    .dataframe tbody tr th {\n",
       "        vertical-align: top;\n",
       "    }\n",
       "\n",
       "    .dataframe thead th {\n",
       "        text-align: right;\n",
       "    }\n",
       "</style>\n",
       "<table border=\"1\" class=\"dataframe\">\n",
       "  <thead>\n",
       "    <tr style=\"text-align: right;\">\n",
       "      <th></th>\n",
       "      <th>id</th>\n",
       "      <th>imdb_id</th>\n",
       "      <th>popularity</th>\n",
       "      <th>budget</th>\n",
       "      <th>revenue</th>\n",
       "      <th>original_title</th>\n",
       "      <th>cast</th>\n",
       "      <th>homepage</th>\n",
       "      <th>director</th>\n",
       "      <th>tagline</th>\n",
       "      <th>...</th>\n",
       "      <th>overview</th>\n",
       "      <th>runtime</th>\n",
       "      <th>genres</th>\n",
       "      <th>production_companies</th>\n",
       "      <th>release_date</th>\n",
       "      <th>vote_count</th>\n",
       "      <th>vote_average</th>\n",
       "      <th>release_year</th>\n",
       "      <th>budget_adj</th>\n",
       "      <th>revenue_adj</th>\n",
       "    </tr>\n",
       "  </thead>\n",
       "  <tbody>\n",
       "    <tr>\n",
       "      <th>0</th>\n",
       "      <td>135397</td>\n",
       "      <td>tt0369610</td>\n",
       "      <td>32.985763</td>\n",
       "      <td>150000000</td>\n",
       "      <td>1513528810</td>\n",
       "      <td>Jurassic World</td>\n",
       "      <td>Chris Pratt|Bryce Dallas Howard|Irrfan Khan|Vi...</td>\n",
       "      <td>http://www.jurassicworld.com/</td>\n",
       "      <td>Colin Trevorrow</td>\n",
       "      <td>The park is open.</td>\n",
       "      <td>...</td>\n",
       "      <td>Twenty-two years after the events of Jurassic ...</td>\n",
       "      <td>124</td>\n",
       "      <td>Action|Adventure|Science Fiction|Thriller</td>\n",
       "      <td>Universal Studios|Amblin Entertainment|Legenda...</td>\n",
       "      <td>6/9/15</td>\n",
       "      <td>5562</td>\n",
       "      <td>6.5</td>\n",
       "      <td>2015</td>\n",
       "      <td>1.379999e+08</td>\n",
       "      <td>1.392446e+09</td>\n",
       "    </tr>\n",
       "    <tr>\n",
       "      <th>1</th>\n",
       "      <td>76341</td>\n",
       "      <td>tt1392190</td>\n",
       "      <td>28.419936</td>\n",
       "      <td>150000000</td>\n",
       "      <td>378436354</td>\n",
       "      <td>Mad Max: Fury Road</td>\n",
       "      <td>Tom Hardy|Charlize Theron|Hugh Keays-Byrne|Nic...</td>\n",
       "      <td>http://www.madmaxmovie.com/</td>\n",
       "      <td>George Miller</td>\n",
       "      <td>What a Lovely Day.</td>\n",
       "      <td>...</td>\n",
       "      <td>An apocalyptic story set in the furthest reach...</td>\n",
       "      <td>120</td>\n",
       "      <td>Action|Adventure|Science Fiction|Thriller</td>\n",
       "      <td>Village Roadshow Pictures|Kennedy Miller Produ...</td>\n",
       "      <td>5/13/15</td>\n",
       "      <td>6185</td>\n",
       "      <td>7.1</td>\n",
       "      <td>2015</td>\n",
       "      <td>1.379999e+08</td>\n",
       "      <td>3.481613e+08</td>\n",
       "    </tr>\n",
       "    <tr>\n",
       "      <th>2</th>\n",
       "      <td>262500</td>\n",
       "      <td>tt2908446</td>\n",
       "      <td>13.112507</td>\n",
       "      <td>110000000</td>\n",
       "      <td>295238201</td>\n",
       "      <td>Insurgent</td>\n",
       "      <td>Shailene Woodley|Theo James|Kate Winslet|Ansel...</td>\n",
       "      <td>http://www.thedivergentseries.movie/#insurgent</td>\n",
       "      <td>Robert Schwentke</td>\n",
       "      <td>One Choice Can Destroy You</td>\n",
       "      <td>...</td>\n",
       "      <td>Beatrice Prior must confront her inner demons ...</td>\n",
       "      <td>119</td>\n",
       "      <td>Adventure|Science Fiction|Thriller</td>\n",
       "      <td>Summit Entertainment|Mandeville Films|Red Wago...</td>\n",
       "      <td>3/18/15</td>\n",
       "      <td>2480</td>\n",
       "      <td>6.3</td>\n",
       "      <td>2015</td>\n",
       "      <td>1.012000e+08</td>\n",
       "      <td>2.716190e+08</td>\n",
       "    </tr>\n",
       "    <tr>\n",
       "      <th>3</th>\n",
       "      <td>140607</td>\n",
       "      <td>tt2488496</td>\n",
       "      <td>11.173104</td>\n",
       "      <td>200000000</td>\n",
       "      <td>2068178225</td>\n",
       "      <td>Star Wars: The Force Awakens</td>\n",
       "      <td>Harrison Ford|Mark Hamill|Carrie Fisher|Adam D...</td>\n",
       "      <td>http://www.starwars.com/films/star-wars-episod...</td>\n",
       "      <td>J.J. Abrams</td>\n",
       "      <td>Every generation has a story.</td>\n",
       "      <td>...</td>\n",
       "      <td>Thirty years after defeating the Galactic Empi...</td>\n",
       "      <td>136</td>\n",
       "      <td>Action|Adventure|Science Fiction|Fantasy</td>\n",
       "      <td>Lucasfilm|Truenorth Productions|Bad Robot</td>\n",
       "      <td>12/15/15</td>\n",
       "      <td>5292</td>\n",
       "      <td>7.5</td>\n",
       "      <td>2015</td>\n",
       "      <td>1.839999e+08</td>\n",
       "      <td>1.902723e+09</td>\n",
       "    </tr>\n",
       "    <tr>\n",
       "      <th>4</th>\n",
       "      <td>168259</td>\n",
       "      <td>tt2820852</td>\n",
       "      <td>9.335014</td>\n",
       "      <td>190000000</td>\n",
       "      <td>1506249360</td>\n",
       "      <td>Furious 7</td>\n",
       "      <td>Vin Diesel|Paul Walker|Jason Statham|Michelle ...</td>\n",
       "      <td>http://www.furious7.com/</td>\n",
       "      <td>James Wan</td>\n",
       "      <td>Vengeance Hits Home</td>\n",
       "      <td>...</td>\n",
       "      <td>Deckard Shaw seeks revenge against Dominic Tor...</td>\n",
       "      <td>137</td>\n",
       "      <td>Action|Crime|Thriller</td>\n",
       "      <td>Universal Pictures|Original Film|Media Rights ...</td>\n",
       "      <td>4/1/15</td>\n",
       "      <td>2947</td>\n",
       "      <td>7.3</td>\n",
       "      <td>2015</td>\n",
       "      <td>1.747999e+08</td>\n",
       "      <td>1.385749e+09</td>\n",
       "    </tr>\n",
       "  </tbody>\n",
       "</table>\n",
       "<p>5 rows × 21 columns</p>\n",
       "</div>"
      ],
      "text/plain": [
       "       id    imdb_id  popularity     budget     revenue  \\\n",
       "0  135397  tt0369610   32.985763  150000000  1513528810   \n",
       "1   76341  tt1392190   28.419936  150000000   378436354   \n",
       "2  262500  tt2908446   13.112507  110000000   295238201   \n",
       "3  140607  tt2488496   11.173104  200000000  2068178225   \n",
       "4  168259  tt2820852    9.335014  190000000  1506249360   \n",
       "\n",
       "                 original_title  \\\n",
       "0                Jurassic World   \n",
       "1            Mad Max: Fury Road   \n",
       "2                     Insurgent   \n",
       "3  Star Wars: The Force Awakens   \n",
       "4                     Furious 7   \n",
       "\n",
       "                                                cast  \\\n",
       "0  Chris Pratt|Bryce Dallas Howard|Irrfan Khan|Vi...   \n",
       "1  Tom Hardy|Charlize Theron|Hugh Keays-Byrne|Nic...   \n",
       "2  Shailene Woodley|Theo James|Kate Winslet|Ansel...   \n",
       "3  Harrison Ford|Mark Hamill|Carrie Fisher|Adam D...   \n",
       "4  Vin Diesel|Paul Walker|Jason Statham|Michelle ...   \n",
       "\n",
       "                                            homepage          director  \\\n",
       "0                      http://www.jurassicworld.com/   Colin Trevorrow   \n",
       "1                        http://www.madmaxmovie.com/     George Miller   \n",
       "2     http://www.thedivergentseries.movie/#insurgent  Robert Schwentke   \n",
       "3  http://www.starwars.com/films/star-wars-episod...       J.J. Abrams   \n",
       "4                           http://www.furious7.com/         James Wan   \n",
       "\n",
       "                         tagline  ...  \\\n",
       "0              The park is open.  ...   \n",
       "1             What a Lovely Day.  ...   \n",
       "2     One Choice Can Destroy You  ...   \n",
       "3  Every generation has a story.  ...   \n",
       "4            Vengeance Hits Home  ...   \n",
       "\n",
       "                                            overview runtime  \\\n",
       "0  Twenty-two years after the events of Jurassic ...     124   \n",
       "1  An apocalyptic story set in the furthest reach...     120   \n",
       "2  Beatrice Prior must confront her inner demons ...     119   \n",
       "3  Thirty years after defeating the Galactic Empi...     136   \n",
       "4  Deckard Shaw seeks revenge against Dominic Tor...     137   \n",
       "\n",
       "                                      genres  \\\n",
       "0  Action|Adventure|Science Fiction|Thriller   \n",
       "1  Action|Adventure|Science Fiction|Thriller   \n",
       "2         Adventure|Science Fiction|Thriller   \n",
       "3   Action|Adventure|Science Fiction|Fantasy   \n",
       "4                      Action|Crime|Thriller   \n",
       "\n",
       "                                production_companies release_date vote_count  \\\n",
       "0  Universal Studios|Amblin Entertainment|Legenda...       6/9/15       5562   \n",
       "1  Village Roadshow Pictures|Kennedy Miller Produ...      5/13/15       6185   \n",
       "2  Summit Entertainment|Mandeville Films|Red Wago...      3/18/15       2480   \n",
       "3          Lucasfilm|Truenorth Productions|Bad Robot     12/15/15       5292   \n",
       "4  Universal Pictures|Original Film|Media Rights ...       4/1/15       2947   \n",
       "\n",
       "   vote_average  release_year    budget_adj   revenue_adj  \n",
       "0           6.5          2015  1.379999e+08  1.392446e+09  \n",
       "1           7.1          2015  1.379999e+08  3.481613e+08  \n",
       "2           6.3          2015  1.012000e+08  2.716190e+08  \n",
       "3           7.5          2015  1.839999e+08  1.902723e+09  \n",
       "4           7.3          2015  1.747999e+08  1.385749e+09  \n",
       "\n",
       "[5 rows x 21 columns]"
      ]
     },
     "execution_count": 4,
     "metadata": {},
     "output_type": "execute_result"
    }
   ],
   "source": [
    "#Investigating csv contents\n",
    "movdf.head()"
   ]
  },
  {
   "cell_type": "markdown",
   "metadata": {},
   "source": [
    "<a id='wrangling'></a>\n",
    "## Data Wrangling\n",
    "\n",
    "### General Properties"
   ]
  },
  {
   "cell_type": "code",
   "execution_count": 5,
   "metadata": {},
   "outputs": [
    {
     "data": {
      "text/html": [
       "<div>\n",
       "<style scoped>\n",
       "    .dataframe tbody tr th:only-of-type {\n",
       "        vertical-align: middle;\n",
       "    }\n",
       "\n",
       "    .dataframe tbody tr th {\n",
       "        vertical-align: top;\n",
       "    }\n",
       "\n",
       "    .dataframe thead th {\n",
       "        text-align: right;\n",
       "    }\n",
       "</style>\n",
       "<table border=\"1\" class=\"dataframe\">\n",
       "  <thead>\n",
       "    <tr style=\"text-align: right;\">\n",
       "      <th></th>\n",
       "      <th>id</th>\n",
       "      <th>popularity</th>\n",
       "      <th>budget</th>\n",
       "      <th>revenue</th>\n",
       "      <th>runtime</th>\n",
       "      <th>vote_count</th>\n",
       "      <th>vote_average</th>\n",
       "      <th>release_year</th>\n",
       "      <th>budget_adj</th>\n",
       "      <th>revenue_adj</th>\n",
       "    </tr>\n",
       "  </thead>\n",
       "  <tbody>\n",
       "    <tr>\n",
       "      <th>count</th>\n",
       "      <td>10866.000000</td>\n",
       "      <td>10866.000000</td>\n",
       "      <td>1.086600e+04</td>\n",
       "      <td>1.086600e+04</td>\n",
       "      <td>10866.000000</td>\n",
       "      <td>10866.000000</td>\n",
       "      <td>10866.000000</td>\n",
       "      <td>10866.000000</td>\n",
       "      <td>1.086600e+04</td>\n",
       "      <td>1.086600e+04</td>\n",
       "    </tr>\n",
       "    <tr>\n",
       "      <th>mean</th>\n",
       "      <td>66064.177434</td>\n",
       "      <td>0.646441</td>\n",
       "      <td>1.462570e+07</td>\n",
       "      <td>3.982332e+07</td>\n",
       "      <td>102.070863</td>\n",
       "      <td>217.389748</td>\n",
       "      <td>5.974922</td>\n",
       "      <td>2001.322658</td>\n",
       "      <td>1.755104e+07</td>\n",
       "      <td>5.136436e+07</td>\n",
       "    </tr>\n",
       "    <tr>\n",
       "      <th>std</th>\n",
       "      <td>92130.136561</td>\n",
       "      <td>1.000185</td>\n",
       "      <td>3.091321e+07</td>\n",
       "      <td>1.170035e+08</td>\n",
       "      <td>31.381405</td>\n",
       "      <td>575.619058</td>\n",
       "      <td>0.935142</td>\n",
       "      <td>12.812941</td>\n",
       "      <td>3.430616e+07</td>\n",
       "      <td>1.446325e+08</td>\n",
       "    </tr>\n",
       "    <tr>\n",
       "      <th>min</th>\n",
       "      <td>5.000000</td>\n",
       "      <td>0.000065</td>\n",
       "      <td>0.000000e+00</td>\n",
       "      <td>0.000000e+00</td>\n",
       "      <td>0.000000</td>\n",
       "      <td>10.000000</td>\n",
       "      <td>1.500000</td>\n",
       "      <td>1960.000000</td>\n",
       "      <td>0.000000e+00</td>\n",
       "      <td>0.000000e+00</td>\n",
       "    </tr>\n",
       "    <tr>\n",
       "      <th>25%</th>\n",
       "      <td>10596.250000</td>\n",
       "      <td>0.207583</td>\n",
       "      <td>0.000000e+00</td>\n",
       "      <td>0.000000e+00</td>\n",
       "      <td>90.000000</td>\n",
       "      <td>17.000000</td>\n",
       "      <td>5.400000</td>\n",
       "      <td>1995.000000</td>\n",
       "      <td>0.000000e+00</td>\n",
       "      <td>0.000000e+00</td>\n",
       "    </tr>\n",
       "    <tr>\n",
       "      <th>50%</th>\n",
       "      <td>20669.000000</td>\n",
       "      <td>0.383856</td>\n",
       "      <td>0.000000e+00</td>\n",
       "      <td>0.000000e+00</td>\n",
       "      <td>99.000000</td>\n",
       "      <td>38.000000</td>\n",
       "      <td>6.000000</td>\n",
       "      <td>2006.000000</td>\n",
       "      <td>0.000000e+00</td>\n",
       "      <td>0.000000e+00</td>\n",
       "    </tr>\n",
       "    <tr>\n",
       "      <th>75%</th>\n",
       "      <td>75610.000000</td>\n",
       "      <td>0.713817</td>\n",
       "      <td>1.500000e+07</td>\n",
       "      <td>2.400000e+07</td>\n",
       "      <td>111.000000</td>\n",
       "      <td>145.750000</td>\n",
       "      <td>6.600000</td>\n",
       "      <td>2011.000000</td>\n",
       "      <td>2.085325e+07</td>\n",
       "      <td>3.369710e+07</td>\n",
       "    </tr>\n",
       "    <tr>\n",
       "      <th>max</th>\n",
       "      <td>417859.000000</td>\n",
       "      <td>32.985763</td>\n",
       "      <td>4.250000e+08</td>\n",
       "      <td>2.781506e+09</td>\n",
       "      <td>900.000000</td>\n",
       "      <td>9767.000000</td>\n",
       "      <td>9.200000</td>\n",
       "      <td>2015.000000</td>\n",
       "      <td>4.250000e+08</td>\n",
       "      <td>2.827124e+09</td>\n",
       "    </tr>\n",
       "  </tbody>\n",
       "</table>\n",
       "</div>"
      ],
      "text/plain": [
       "                  id    popularity        budget       revenue       runtime  \\\n",
       "count   10866.000000  10866.000000  1.086600e+04  1.086600e+04  10866.000000   \n",
       "mean    66064.177434      0.646441  1.462570e+07  3.982332e+07    102.070863   \n",
       "std     92130.136561      1.000185  3.091321e+07  1.170035e+08     31.381405   \n",
       "min         5.000000      0.000065  0.000000e+00  0.000000e+00      0.000000   \n",
       "25%     10596.250000      0.207583  0.000000e+00  0.000000e+00     90.000000   \n",
       "50%     20669.000000      0.383856  0.000000e+00  0.000000e+00     99.000000   \n",
       "75%     75610.000000      0.713817  1.500000e+07  2.400000e+07    111.000000   \n",
       "max    417859.000000     32.985763  4.250000e+08  2.781506e+09    900.000000   \n",
       "\n",
       "         vote_count  vote_average  release_year    budget_adj   revenue_adj  \n",
       "count  10866.000000  10866.000000  10866.000000  1.086600e+04  1.086600e+04  \n",
       "mean     217.389748      5.974922   2001.322658  1.755104e+07  5.136436e+07  \n",
       "std      575.619058      0.935142     12.812941  3.430616e+07  1.446325e+08  \n",
       "min       10.000000      1.500000   1960.000000  0.000000e+00  0.000000e+00  \n",
       "25%       17.000000      5.400000   1995.000000  0.000000e+00  0.000000e+00  \n",
       "50%       38.000000      6.000000   2006.000000  0.000000e+00  0.000000e+00  \n",
       "75%      145.750000      6.600000   2011.000000  2.085325e+07  3.369710e+07  \n",
       "max     9767.000000      9.200000   2015.000000  4.250000e+08  2.827124e+09  "
      ]
     },
     "execution_count": 5,
     "metadata": {},
     "output_type": "execute_result"
    }
   ],
   "source": [
    "#Showing general stats of dataset\n",
    "movdf.describe()"
   ]
  },
  {
   "cell_type": "markdown",
   "metadata": {},
   "source": [
    "A portion of the dataset seems to lack budget and revenue data. A count of those cells is necessary to see if it is significant enough to affect the data and possibly even completely remove them from data set"
   ]
  },
  {
   "cell_type": "code",
   "execution_count": 6,
   "metadata": {},
   "outputs": [],
   "source": [
    "#number of budgetless movies\n",
    "budgless=movdf['budget_adj'].isin([0]) # creat a bool of budget less movies"
   ]
  },
  {
   "cell_type": "markdown",
   "metadata": {},
   "source": [
    "Now we need to check if the budgetless data have any common properties (i.e. the data is not skewed). To determine if we can remoe it with consequences to analysis"
   ]
  },
  {
   "cell_type": "code",
   "execution_count": 7,
   "metadata": {},
   "outputs": [
    {
     "data": {
      "text/plain": [
       "array([[<matplotlib.axes._subplots.AxesSubplot object at 0x000002498554D9C8>,\n",
       "        <matplotlib.axes._subplots.AxesSubplot object at 0x0000024985C71A48>,\n",
       "        <matplotlib.axes._subplots.AxesSubplot object at 0x0000024985CAA648>],\n",
       "       [<matplotlib.axes._subplots.AxesSubplot object at 0x0000024985CE03C8>,\n",
       "        <matplotlib.axes._subplots.AxesSubplot object at 0x0000024985D17148>,\n",
       "        <matplotlib.axes._subplots.AxesSubplot object at 0x0000024985D45E88>],\n",
       "       [<matplotlib.axes._subplots.AxesSubplot object at 0x0000024985D7CC08>,\n",
       "        <matplotlib.axes._subplots.AxesSubplot object at 0x0000024985DB3988>,\n",
       "        <matplotlib.axes._subplots.AxesSubplot object at 0x0000024985DB9808>],\n",
       "       [<matplotlib.axes._subplots.AxesSubplot object at 0x0000024985DF8108>,\n",
       "        <matplotlib.axes._subplots.AxesSubplot object at 0x0000024985E5FE48>,\n",
       "        <matplotlib.axes._subplots.AxesSubplot object at 0x0000024985E92808>]],\n",
       "      dtype=object)"
      ]
     },
     "execution_count": 7,
     "metadata": {},
     "output_type": "execute_result"
    },
    {
     "data": {
      "image/png": "[encoded data removed]",
      "text/plain": [
       "<Figure size 720x720 with 12 Axes>"
      ]
     },
     "metadata": {
      "needs_background": "light"
     },
     "output_type": "display_data"
    }
   ],
   "source": [
    "movdf.hist(figsize=(10,10)) #plotting for whole data set"
   ]
  },
  {
   "cell_type": "code",
   "execution_count": 8,
   "metadata": {
    "scrolled": true
   },
   "outputs": [
    {
     "data": {
      "text/plain": [
       "array([[<matplotlib.axes._subplots.AxesSubplot object at 0x000002498558E848>,\n",
       "        <matplotlib.axes._subplots.AxesSubplot object at 0x00000249863E0E48>,\n",
       "        <matplotlib.axes._subplots.AxesSubplot object at 0x00000249863FA748>],\n",
       "       [<matplotlib.axes._subplots.AxesSubplot object at 0x000002498611F188>,\n",
       "        <matplotlib.axes._subplots.AxesSubplot object at 0x0000024986155B48>,\n",
       "        <matplotlib.axes._subplots.AxesSubplot object at 0x000002498618D548>],\n",
       "       [<matplotlib.axes._subplots.AxesSubplot object at 0x00000249861C3EC8>,\n",
       "        <matplotlib.axes._subplots.AxesSubplot object at 0x00000249861FDC48>,\n",
       "        <matplotlib.axes._subplots.AxesSubplot object at 0x0000024986207848>],\n",
       "       [<matplotlib.axes._subplots.AxesSubplot object at 0x0000024986240A08>,\n",
       "        <matplotlib.axes._subplots.AxesSubplot object at 0x00000249862A9FC8>,\n",
       "        <matplotlib.axes._subplots.AxesSubplot object at 0x00000249862E5108>]],\n",
       "      dtype=object)"
      ]
     },
     "execution_count": 8,
     "metadata": {},
     "output_type": "execute_result"
    },
    {
     "data": {
      "image/png": "[encoded data removed]",
      "text/plain": [
       "<Figure size 720x720 with 12 Axes>"
      ]
     },
     "metadata": {
      "needs_background": "light"
     },
     "output_type": "display_data"
    }
   ],
   "source": [
    "movdf[budgless].hist(figsize=(10,10)) #plot for budgetless"
   ]
  },
  {
   "cell_type": "markdown",
   "metadata": {},
   "source": [
    "Comparing the figures it seems that the budget less data is very similar to the general. Therefore it is reasonable to say that we can ignore the data for the purpose of our analysis. Also note that there seems to be revenue data even if there is not budget data. Therefore a similar comparison needs to be done to see if we can remove the revenue-less data as well."
   ]
  },
  {
   "cell_type": "code",
   "execution_count": 9,
   "metadata": {},
   "outputs": [
    {
     "data": {
      "text/plain": [
       "array([[<matplotlib.axes._subplots.AxesSubplot object at 0x0000024985F20F08>,\n",
       "        <matplotlib.axes._subplots.AxesSubplot object at 0x00000249867B37C8>,\n",
       "        <matplotlib.axes._subplots.AxesSubplot object at 0x00000249867CCE08>],\n",
       "       [<matplotlib.axes._subplots.AxesSubplot object at 0x00000249868077C8>,\n",
       "        <matplotlib.axes._subplots.AxesSubplot object at 0x00000249868411C8>,\n",
       "        <matplotlib.axes._subplots.AxesSubplot object at 0x0000024986877B88>],\n",
       "       [<matplotlib.axes._subplots.AxesSubplot object at 0x00000249868B6FC8>,\n",
       "        <matplotlib.axes._subplots.AxesSubplot object at 0x00000249868F0F48>,\n",
       "        <matplotlib.axes._subplots.AxesSubplot object at 0x00000249868F8048>],\n",
       "       [<matplotlib.axes._subplots.AxesSubplot object at 0x0000024986930208>,\n",
       "        <matplotlib.axes._subplots.AxesSubplot object at 0x0000024986993788>,\n",
       "        <matplotlib.axes._subplots.AxesSubplot object at 0x0000024986BCC8C8>]],\n",
       "      dtype=object)"
      ]
     },
     "execution_count": 9,
     "metadata": {},
     "output_type": "execute_result"
    },
    {
     "data": {
      "image/png": "[encoded data removed]",
      "text/plain": [
       "<Figure size 720x720 with 12 Axes>"
      ]
     },
     "metadata": {
      "needs_background": "light"
     },
     "output_type": "display_data"
    }
   ],
   "source": [
    "#creating revenue less boolean vector\n",
    "revless=movdf['revenue_adj'].isin([0])\n",
    "movdf[revless].hist(figsize=(10,10)) #plot for revless"
   ]
  },
  {
   "cell_type": "markdown",
   "metadata": {},
   "source": [
    "Again the revenue-less movies show the same trends as the general dataset.now proceed to create new clean dataframe with no movies that have no budget or revenue."
   ]
  },
  {
   "cell_type": "code",
   "execution_count": 10,
   "metadata": {
    "scrolled": true
   },
   "outputs": [
    {
     "data": {
      "text/html": [
       "<div>\n",
       "<style scoped>\n",
       "    .dataframe tbody tr th:only-of-type {\n",
       "        vertical-align: middle;\n",
       "    }\n",
       "\n",
       "    .dataframe tbody tr th {\n",
       "        vertical-align: top;\n",
       "    }\n",
       "\n",
       "    .dataframe thead th {\n",
       "        text-align: right;\n",
       "    }\n",
       "</style>\n",
       "<table border=\"1\" class=\"dataframe\">\n",
       "  <thead>\n",
       "    <tr style=\"text-align: right;\">\n",
       "      <th></th>\n",
       "      <th>id</th>\n",
       "      <th>popularity</th>\n",
       "      <th>budget</th>\n",
       "      <th>revenue</th>\n",
       "      <th>runtime</th>\n",
       "      <th>vote_count</th>\n",
       "      <th>vote_average</th>\n",
       "      <th>release_year</th>\n",
       "      <th>budget_adj</th>\n",
       "      <th>revenue_adj</th>\n",
       "    </tr>\n",
       "  </thead>\n",
       "  <tbody>\n",
       "    <tr>\n",
       "      <th>count</th>\n",
       "      <td>3855.000000</td>\n",
       "      <td>3855.000000</td>\n",
       "      <td>3.855000e+03</td>\n",
       "      <td>3.855000e+03</td>\n",
       "      <td>3855.000000</td>\n",
       "      <td>3855.000000</td>\n",
       "      <td>3855.00000</td>\n",
       "      <td>3855.000000</td>\n",
       "      <td>3.855000e+03</td>\n",
       "      <td>3.855000e+03</td>\n",
       "    </tr>\n",
       "    <tr>\n",
       "      <th>mean</th>\n",
       "      <td>39888.783398</td>\n",
       "      <td>1.191400</td>\n",
       "      <td>3.720183e+07</td>\n",
       "      <td>1.076589e+08</td>\n",
       "      <td>109.215824</td>\n",
       "      <td>527.611933</td>\n",
       "      <td>6.16786</td>\n",
       "      <td>2001.263294</td>\n",
       "      <td>4.423630e+07</td>\n",
       "      <td>1.370294e+08</td>\n",
       "    </tr>\n",
       "    <tr>\n",
       "      <th>std</th>\n",
       "      <td>67213.815955</td>\n",
       "      <td>1.475002</td>\n",
       "      <td>4.220291e+07</td>\n",
       "      <td>1.765248e+08</td>\n",
       "      <td>19.922166</td>\n",
       "      <td>879.868374</td>\n",
       "      <td>0.79504</td>\n",
       "      <td>11.281989</td>\n",
       "      <td>4.480403e+07</td>\n",
       "      <td>2.160944e+08</td>\n",
       "    </tr>\n",
       "    <tr>\n",
       "      <th>min</th>\n",
       "      <td>5.000000</td>\n",
       "      <td>0.001117</td>\n",
       "      <td>1.000000e+00</td>\n",
       "      <td>2.000000e+00</td>\n",
       "      <td>15.000000</td>\n",
       "      <td>10.000000</td>\n",
       "      <td>2.20000</td>\n",
       "      <td>1960.000000</td>\n",
       "      <td>9.693980e-01</td>\n",
       "      <td>2.370705e+00</td>\n",
       "    </tr>\n",
       "    <tr>\n",
       "      <th>25%</th>\n",
       "      <td>6074.000000</td>\n",
       "      <td>0.462448</td>\n",
       "      <td>1.000000e+07</td>\n",
       "      <td>1.357645e+07</td>\n",
       "      <td>95.000000</td>\n",
       "      <td>71.000000</td>\n",
       "      <td>5.70000</td>\n",
       "      <td>1995.000000</td>\n",
       "      <td>1.309053e+07</td>\n",
       "      <td>1.834123e+07</td>\n",
       "    </tr>\n",
       "    <tr>\n",
       "      <th>50%</th>\n",
       "      <td>11322.000000</td>\n",
       "      <td>0.797298</td>\n",
       "      <td>2.400000e+07</td>\n",
       "      <td>4.479322e+07</td>\n",
       "      <td>106.000000</td>\n",
       "      <td>204.000000</td>\n",
       "      <td>6.20000</td>\n",
       "      <td>2004.000000</td>\n",
       "      <td>3.001558e+07</td>\n",
       "      <td>6.171861e+07</td>\n",
       "    </tr>\n",
       "    <tr>\n",
       "      <th>75%</th>\n",
       "      <td>38577.000000</td>\n",
       "      <td>1.368245</td>\n",
       "      <td>5.000000e+07</td>\n",
       "      <td>1.241530e+08</td>\n",
       "      <td>119.000000</td>\n",
       "      <td>580.000000</td>\n",
       "      <td>6.70000</td>\n",
       "      <td>2010.000000</td>\n",
       "      <td>6.061307e+07</td>\n",
       "      <td>1.632401e+08</td>\n",
       "    </tr>\n",
       "    <tr>\n",
       "      <th>max</th>\n",
       "      <td>417859.000000</td>\n",
       "      <td>32.985763</td>\n",
       "      <td>4.250000e+08</td>\n",
       "      <td>2.781506e+09</td>\n",
       "      <td>338.000000</td>\n",
       "      <td>9767.000000</td>\n",
       "      <td>8.40000</td>\n",
       "      <td>2015.000000</td>\n",
       "      <td>4.250000e+08</td>\n",
       "      <td>2.827124e+09</td>\n",
       "    </tr>\n",
       "  </tbody>\n",
       "</table>\n",
       "</div>"
      ],
      "text/plain": [
       "                  id   popularity        budget       revenue      runtime  \\\n",
       "count    3855.000000  3855.000000  3.855000e+03  3.855000e+03  3855.000000   \n",
       "mean    39888.783398     1.191400  3.720183e+07  1.076589e+08   109.215824   \n",
       "std     67213.815955     1.475002  4.220291e+07  1.765248e+08    19.922166   \n",
       "min         5.000000     0.001117  1.000000e+00  2.000000e+00    15.000000   \n",
       "25%      6074.000000     0.462448  1.000000e+07  1.357645e+07    95.000000   \n",
       "50%     11322.000000     0.797298  2.400000e+07  4.479322e+07   106.000000   \n",
       "75%     38577.000000     1.368245  5.000000e+07  1.241530e+08   119.000000   \n",
       "max    417859.000000    32.985763  4.250000e+08  2.781506e+09   338.000000   \n",
       "\n",
       "        vote_count  vote_average  release_year    budget_adj   revenue_adj  \n",
       "count  3855.000000    3855.00000   3855.000000  3.855000e+03  3.855000e+03  \n",
       "mean    527.611933       6.16786   2001.263294  4.423630e+07  1.370294e+08  \n",
       "std     879.868374       0.79504     11.281989  4.480403e+07  2.160944e+08  \n",
       "min      10.000000       2.20000   1960.000000  9.693980e-01  2.370705e+00  \n",
       "25%      71.000000       5.70000   1995.000000  1.309053e+07  1.834123e+07  \n",
       "50%     204.000000       6.20000   2004.000000  3.001558e+07  6.171861e+07  \n",
       "75%     580.000000       6.70000   2010.000000  6.061307e+07  1.632401e+08  \n",
       "max    9767.000000       8.40000   2015.000000  4.250000e+08  2.827124e+09  "
      ]
     },
     "execution_count": 10,
     "metadata": {},
     "output_type": "execute_result"
    }
   ],
   "source": [
    "#removing movies that don't have budget or revenue data\n",
    "budgRevLess=movdf.drop(movdf[budgless|revless].index)\n",
    "#getting describe to check if data set now is fixed\n",
    "budgRevLess.describe()"
   ]
  },
  {
   "cell_type": "markdown",
   "metadata": {},
   "source": [
    "As shown in the table above there aren't revenueless or budgetless data anymore. "
   ]
  },
  {
   "cell_type": "markdown",
   "metadata": {},
   "source": [
    "\n",
    "### Data Cleaning: Removing Duplicates"
   ]
  },
  {
   "cell_type": "markdown",
   "metadata": {},
   "source": [
    "Last step before continuing analysis is to check for duplicates on the (id or movie names)"
   ]
  },
  {
   "cell_type": "code",
   "execution_count": 11,
   "metadata": {
    "scrolled": true
   },
   "outputs": [
    {
     "name": "stdout",
     "output_type": "stream",
     "text": [
      "         id    imdb_id  popularity    budget  revenue original_title  \\\n",
      "2090  42194  tt0411951     0.59643  30000000   967000         TEKKEN   \n",
      "\n",
      "                                                   cast homepage  \\\n",
      "2090  Jon Foo|Kelly Overton|Cary-Hiroyuki Tagawa|Ian...      NaN   \n",
      "\n",
      "              director              tagline  ...  \\\n",
      "2090  Dwight H. Little  Survival is no game  ...   \n",
      "\n",
      "                                               overview runtime  \\\n",
      "2090  In the year of 2039, after World Wars destroy ...      92   \n",
      "\n",
      "                                           genres    production_companies  \\\n",
      "2090  Crime|Drama|Action|Thriller|Science Fiction  Namco|Light Song Films   \n",
      "\n",
      "     release_date vote_count  vote_average  release_year  budget_adj  \\\n",
      "2090      3/20/10        110           5.0          2010  30000000.0   \n",
      "\n",
      "      revenue_adj  \n",
      "2090     967000.0  \n",
      "\n",
      "[1 rows x 21 columns]\n"
     ]
    }
   ],
   "source": [
    "#Check and print any duplicates\n",
    "print(budgRevLess[budgRevLess.duplicated(keep='first')])"
   ]
  },
  {
   "cell_type": "markdown",
   "metadata": {},
   "source": [
    "Duplicate entries found; so perform clean up"
   ]
  },
  {
   "cell_type": "code",
   "execution_count": 12,
   "metadata": {},
   "outputs": [],
   "source": [
    "#remove any duplicates and create a new CLEANED data frame\n",
    "CleanDf=budgRevLess.drop(budgRevLess[budgRevLess.duplicated(keep='first')].index)"
   ]
  },
  {
   "cell_type": "markdown",
   "metadata": {},
   "source": [
    "Perform a final check to see if there are any movies who share the same ID or imdb_id"
   ]
  },
  {
   "cell_type": "code",
   "execution_count": 13,
   "metadata": {},
   "outputs": [
    {
     "data": {
      "text/plain": [
       "0"
      ]
     },
     "execution_count": 13,
     "metadata": {},
     "output_type": "execute_result"
    }
   ],
   "source": [
    "CleanDf.duplicated(['id'],keep='first').sum()"
   ]
  },
  {
   "cell_type": "code",
   "execution_count": 14,
   "metadata": {
    "scrolled": false
   },
   "outputs": [
    {
     "data": {
      "text/plain": [
       "0"
      ]
     },
     "execution_count": 14,
     "metadata": {},
     "output_type": "execute_result"
    }
   ],
   "source": [
    "CleanDf.duplicated(['imdb_id'],keep='first').sum()"
   ]
  },
  {
   "cell_type": "markdown",
   "metadata": {},
   "source": [
    "No duplicate IDs"
   ]
  },
  {
   "cell_type": "markdown",
   "metadata": {},
   "source": [
    "Dropping columns that wont be used to have a smaller dataframe"
   ]
  },
  {
   "cell_type": "code",
   "execution_count": 15,
   "metadata": {},
   "outputs": [
    {
     "data": {
      "text/html": [
       "<div>\n",
       "<style scoped>\n",
       "    .dataframe tbody tr th:only-of-type {\n",
       "        vertical-align: middle;\n",
       "    }\n",
       "\n",
       "    .dataframe tbody tr th {\n",
       "        vertical-align: top;\n",
       "    }\n",
       "\n",
       "    .dataframe thead th {\n",
       "        text-align: right;\n",
       "    }\n",
       "</style>\n",
       "<table border=\"1\" class=\"dataframe\">\n",
       "  <thead>\n",
       "    <tr style=\"text-align: right;\">\n",
       "      <th></th>\n",
       "      <th>id</th>\n",
       "      <th>imdb_id</th>\n",
       "      <th>popularity</th>\n",
       "      <th>original_title</th>\n",
       "      <th>director</th>\n",
       "      <th>runtime</th>\n",
       "      <th>release_date</th>\n",
       "      <th>vote_count</th>\n",
       "      <th>vote_average</th>\n",
       "      <th>release_year</th>\n",
       "      <th>budget_adj</th>\n",
       "      <th>revenue_adj</th>\n",
       "    </tr>\n",
       "  </thead>\n",
       "  <tbody>\n",
       "    <tr>\n",
       "      <th>0</th>\n",
       "      <td>135397</td>\n",
       "      <td>tt0369610</td>\n",
       "      <td>32.985763</td>\n",
       "      <td>Jurassic World</td>\n",
       "      <td>Colin Trevorrow</td>\n",
       "      <td>124</td>\n",
       "      <td>6/9/15</td>\n",
       "      <td>5562</td>\n",
       "      <td>6.5</td>\n",
       "      <td>2015</td>\n",
       "      <td>1.379999e+08</td>\n",
       "      <td>1.392446e+09</td>\n",
       "    </tr>\n",
       "    <tr>\n",
       "      <th>1</th>\n",
       "      <td>76341</td>\n",
       "      <td>tt1392190</td>\n",
       "      <td>28.419936</td>\n",
       "      <td>Mad Max: Fury Road</td>\n",
       "      <td>George Miller</td>\n",
       "      <td>120</td>\n",
       "      <td>5/13/15</td>\n",
       "      <td>6185</td>\n",
       "      <td>7.1</td>\n",
       "      <td>2015</td>\n",
       "      <td>1.379999e+08</td>\n",
       "      <td>3.481613e+08</td>\n",
       "    </tr>\n",
       "    <tr>\n",
       "      <th>2</th>\n",
       "      <td>262500</td>\n",
       "      <td>tt2908446</td>\n",
       "      <td>13.112507</td>\n",
       "      <td>Insurgent</td>\n",
       "      <td>Robert Schwentke</td>\n",
       "      <td>119</td>\n",
       "      <td>3/18/15</td>\n",
       "      <td>2480</td>\n",
       "      <td>6.3</td>\n",
       "      <td>2015</td>\n",
       "      <td>1.012000e+08</td>\n",
       "      <td>2.716190e+08</td>\n",
       "    </tr>\n",
       "    <tr>\n",
       "      <th>3</th>\n",
       "      <td>140607</td>\n",
       "      <td>tt2488496</td>\n",
       "      <td>11.173104</td>\n",
       "      <td>Star Wars: The Force Awakens</td>\n",
       "      <td>J.J. Abrams</td>\n",
       "      <td>136</td>\n",
       "      <td>12/15/15</td>\n",
       "      <td>5292</td>\n",
       "      <td>7.5</td>\n",
       "      <td>2015</td>\n",
       "      <td>1.839999e+08</td>\n",
       "      <td>1.902723e+09</td>\n",
       "    </tr>\n",
       "    <tr>\n",
       "      <th>4</th>\n",
       "      <td>168259</td>\n",
       "      <td>tt2820852</td>\n",
       "      <td>9.335014</td>\n",
       "      <td>Furious 7</td>\n",
       "      <td>James Wan</td>\n",
       "      <td>137</td>\n",
       "      <td>4/1/15</td>\n",
       "      <td>2947</td>\n",
       "      <td>7.3</td>\n",
       "      <td>2015</td>\n",
       "      <td>1.747999e+08</td>\n",
       "      <td>1.385749e+09</td>\n",
       "    </tr>\n",
       "  </tbody>\n",
       "</table>\n",
       "</div>"
      ],
      "text/plain": [
       "       id    imdb_id  popularity                original_title  \\\n",
       "0  135397  tt0369610   32.985763                Jurassic World   \n",
       "1   76341  tt1392190   28.419936            Mad Max: Fury Road   \n",
       "2  262500  tt2908446   13.112507                     Insurgent   \n",
       "3  140607  tt2488496   11.173104  Star Wars: The Force Awakens   \n",
       "4  168259  tt2820852    9.335014                     Furious 7   \n",
       "\n",
       "           director  runtime release_date  vote_count  vote_average  \\\n",
       "0   Colin Trevorrow      124       6/9/15        5562           6.5   \n",
       "1     George Miller      120      5/13/15        6185           7.1   \n",
       "2  Robert Schwentke      119      3/18/15        2480           6.3   \n",
       "3       J.J. Abrams      136     12/15/15        5292           7.5   \n",
       "4         James Wan      137       4/1/15        2947           7.3   \n",
       "\n",
       "   release_year    budget_adj   revenue_adj  \n",
       "0          2015  1.379999e+08  1.392446e+09  \n",
       "1          2015  1.379999e+08  3.481613e+08  \n",
       "2          2015  1.012000e+08  2.716190e+08  \n",
       "3          2015  1.839999e+08  1.902723e+09  \n",
       "4          2015  1.747999e+08  1.385749e+09  "
      ]
     },
     "execution_count": 15,
     "metadata": {},
     "output_type": "execute_result"
    }
   ],
   "source": [
    "df=CleanDf.drop(['budget', 'revenue', 'cast', 'homepage', 'tagline','keywords',\\\n",
    "                 'overview','genres','production_companies'], axis=1)\n",
    "df.head()"
   ]
  },
  {
   "cell_type": "markdown",
   "metadata": {},
   "source": [
    "<a id='eda'></a>\n",
    "## Exploratory Data Analysis\n",
    "\n",
    "### Question 1: Is there a correlation between budget and profit ?"
   ]
  },
  {
   "cell_type": "markdown",
   "metadata": {
    "collapsed": true
   },
   "source": [
    "First we need to calculate the profit"
   ]
  },
  {
   "cell_type": "code",
   "execution_count": 16,
   "metadata": {},
   "outputs": [],
   "source": [
    "#calculating profit for all movies\n",
    "df['profit']=df['revenue_adj']-df['budget_adj']"
   ]
  },
  {
   "cell_type": "code",
   "execution_count": 17,
   "metadata": {},
   "outputs": [
    {
     "data": {
      "text/plain": [
       "count    3.854000e+03\n",
       "mean     9.282470e+07\n",
       "std      1.940715e+08\n",
       "min     -4.139124e+08\n",
       "25%     -1.504995e+06\n",
       "50%      2.737064e+07\n",
       "75%      1.074548e+08\n",
       "max      2.750137e+09\n",
       "Name: profit, dtype: float64"
      ]
     },
     "execution_count": 17,
     "metadata": {},
     "output_type": "execute_result"
    },
    {
     "data": {
      "image/png": "[encoded data removed]",
      "text/plain": [
       "<Figure size 432x288 with 1 Axes>"
      ]
     },
     "metadata": {
      "needs_background": "light"
     },
     "output_type": "display_data"
    }
   ],
   "source": [
    "#Plotting histogram of profit\n",
    "histProf=df.plot(kind='hist', y='profit', bins=200)\n",
    "\n",
    "#graph formatting\n",
    "histProf.axis([(-0.5)*(10**8), 1*(10**8), 0, 1000])\n",
    "histProf.set_title('Profit Histogram', fontsize=16)\n",
    "histProf.set_xlabel('Profit / $')\n",
    "\n",
    "#Stats on Profit\n",
    "df['profit'].describe()"
   ]
  },
  {
   "cell_type": "markdown",
   "metadata": {},
   "source": [
    "The mean of the profits is found to be approx. 93 million with a standard deviation of about 194 million. The histogram confirms this with a flat distribution. Note that the axes where changed, avoiding showing highly performing or under performing anomalies (movies) to get a more represantative plot."
   ]
  },
  {
   "cell_type": "code",
   "execution_count": 18,
   "metadata": {},
   "outputs": [
    {
     "data": {
      "text/plain": [
       "[0, 250000000.0, -200000000.0, 1000000000]"
      ]
     },
     "execution_count": 18,
     "metadata": {},
     "output_type": "execute_result"
    },
    {
     "data": {
      "image/png": "[encoded data removed]",
      "text/plain": [
       "<Figure size 432x288 with 1 Axes>"
      ]
     },
     "metadata": {
      "needs_background": "light"
     },
     "output_type": "display_data"
    }
   ],
   "source": [
    "#plotting a scatter of revenue vs budget\n",
    "BudgProf=df.plot(kind='scatter', x='budget_adj', y='profit')\n",
    "\n",
    "BudgProf.set_title('Budget vs Profit', fontsize=16)\n",
    "BudgProf.set_xlabel('Budget / $', fontsize=13)\n",
    "BudgProf.set_ylabel('Profit / $', fontsize=13)\n",
    "BudgProf.axis([0*(10**9), 0.25*(10**9), -0.2*(10**9), 1*(10**9)])\n"
   ]
  },
  {
   "cell_type": "markdown",
   "metadata": {},
   "source": [
    "Interestingly there is a slight negative correlation in lower budget lower profit movies (bottom left corner of the graph. It seems that in that section of data, the higher the budget the lower the profit. This doesn't seem tp be particularly true for Budget more than approx 120 million (and profit more than 300 million). Data outside of that area seems to scatter with no visible correlation\n",
    "\n",
    "Profit is Revenue minus the budget. Therefore what this is implying that for movies with budgets less than 120 million there is no correlation in revenue increase. Lets plot budget against revenue to test out that theory. Note that all values are adjusted for inflation."
   ]
  },
  {
   "cell_type": "code",
   "execution_count": 19,
   "metadata": {},
   "outputs": [
    {
     "data": {
      "text/plain": [
       "[0, 250000000.0, -200000000.0, 1500000000.0]"
      ]
     },
     "execution_count": 19,
     "metadata": {},
     "output_type": "execute_result"
    },
    {
     "data": {
      "image/png": "[encoded data removed]",
      "text/plain": [
       "<Figure size 432x288 with 1 Axes>"
      ]
     },
     "metadata": {
      "needs_background": "light"
     },
     "output_type": "display_data"
    }
   ],
   "source": [
    "#Plotting budget against revenue\n",
    "budgRev=df.plot(kind='scatter', x='budget_adj', y='revenue_adj')\n",
    "\n",
    "#Formatting Plots\n",
    "budgRev.set_title('Budget vs Revenue', fontsize=16)\n",
    "budgRev.set_xlabel('Budget / $', fontsize=13)\n",
    "budgRev.set_ylabel('Revenue / $', fontsize=13)\n",
    "budgRev.axis([-0*(10**8), 2.5*(10**8), -0.2*(10**9), 1.5*(10**9)])"
   ]
  },
  {
   "cell_type": "markdown",
   "metadata": {},
   "source": [
    "The Budget/Revenue plot seems to confirm what we considered in our theory above. There is no correlation for a budget less than 120 million but revenue starts increasing as budget increases beyond that point.\n",
    "\n",
    "Therefore the preliminary analysis implies that investing more in movies with less than 120 million budget would not be a positive return on investement. While for very high budget movies there is a a stronger return on investement."
   ]
  },
  {
   "cell_type": "markdown",
   "metadata": {},
   "source": [
    "### Question 2: Do highly rated movies have higher budgets?"
   ]
  },
  {
   "cell_type": "code",
   "execution_count": 20,
   "metadata": {},
   "outputs": [
    {
     "data": {
      "text/plain": [
       "count    3854.000000\n",
       "mean        6.168163\n",
       "std         0.794920\n",
       "min         2.200000\n",
       "25%         5.700000\n",
       "50%         6.200000\n",
       "75%         6.700000\n",
       "max         8.400000\n",
       "Name: vote_average, dtype: float64"
      ]
     },
     "execution_count": 20,
     "metadata": {},
     "output_type": "execute_result"
    },
    {
     "data": {
      "image/png": "[encoded data removed]",
      "text/plain": [
       "<Figure size 432x288 with 1 Axes>"
      ]
     },
     "metadata": {
      "needs_background": "light"
     },
     "output_type": "display_data"
    }
   ],
   "source": [
    "#Get descriptive statistics of vote average and plot \n",
    "histVote=df.plot(kind='hist', y='vote_average')\n",
    "\n",
    "histVote.set_title('Vote Average Histogram', fontsize=16)\n",
    "histVote.set_xlabel('Vote Average / $')\n",
    "\n",
    "df['vote_average'].describe()"
   ]
  },
  {
   "cell_type": "markdown",
   "metadata": {},
   "source": [
    "Following a similar method as the previous question, we get the histogram of the vote average. We can see a very nice bell curve distribution about the IMDB average of 6.16 with a surprisingly low maximum of 8.4\n",
    "\n",
    "The plot should e useful in the rest of the analysis to identify if the correlations seen just follow the vote average behaviour."
   ]
  },
  {
   "cell_type": "code",
   "execution_count": 21,
   "metadata": {},
   "outputs": [
    {
     "data": {
      "text/plain": [
       "Text(0, 0.5, 'Budget / $')"
      ]
     },
     "execution_count": 21,
     "metadata": {},
     "output_type": "execute_result"
    },
    {
     "data": {
      "image/png": "[encoded data removed]",
      "text/plain": [
       "<Figure size 432x288 with 1 Axes>"
      ]
     },
     "metadata": {
      "needs_background": "light"
     },
     "output_type": "display_data"
    }
   ],
   "source": [
    "#Plotting Ratings and Budgets\n",
    "ratBud=df.plot(kind='scatter', x='vote_average', y='budget_adj')\n",
    "\n",
    "ratBud.set_title('Vote Average vs Budget', fontsize=16)\n",
    "ratBud.set_xlabel('Vote Average', fontsize=13)\n",
    "ratBud.set_ylabel('Budget / $', fontsize=13)"
   ]
  },
  {
   "cell_type": "markdown",
   "metadata": {},
   "source": [
    "Looking at the scatter plot the Budget distribution seems to follow that of the average vote histogram distribution. The plot therefore could be called misleading as there are \"more\" data points (movies) around the mean for vote averages. Therefore the chance of having movies (datapoints) that have higher budgets. Therefore saying that movies with an IMDB vote of 6.16 (the mean) usually have higher budgets is misleading. Beacuse that correlation could be due to the amount of data points we have not because of true correlation."
   ]
  },
  {
   "cell_type": "markdown",
   "metadata": {},
   "source": [
    "### Bonus: Most Profitable Directors (out of curiosity!)"
   ]
  },
  {
   "cell_type": "code",
   "execution_count": 22,
   "metadata": {
    "scrolled": true
   },
   "outputs": [
    {
     "data": {
      "text/html": [
       "<div>\n",
       "<style scoped>\n",
       "    .dataframe tbody tr th:only-of-type {\n",
       "        vertical-align: middle;\n",
       "    }\n",
       "\n",
       "    .dataframe tbody tr th {\n",
       "        vertical-align: top;\n",
       "    }\n",
       "\n",
       "    .dataframe thead th {\n",
       "        text-align: right;\n",
       "    }\n",
       "</style>\n",
       "<table border=\"1\" class=\"dataframe\">\n",
       "  <thead>\n",
       "    <tr style=\"text-align: right;\">\n",
       "      <th></th>\n",
       "      <th>id</th>\n",
       "      <th>popularity</th>\n",
       "      <th>runtime</th>\n",
       "      <th>vote_count</th>\n",
       "      <th>vote_average</th>\n",
       "      <th>release_year</th>\n",
       "      <th>budget_adj</th>\n",
       "      <th>revenue_adj</th>\n",
       "      <th>profit</th>\n",
       "    </tr>\n",
       "    <tr>\n",
       "      <th>director</th>\n",
       "      <th></th>\n",
       "      <th></th>\n",
       "      <th></th>\n",
       "      <th></th>\n",
       "      <th></th>\n",
       "      <th></th>\n",
       "      <th></th>\n",
       "      <th></th>\n",
       "      <th></th>\n",
       "    </tr>\n",
       "  </thead>\n",
       "  <tbody>\n",
       "    <tr>\n",
       "      <th>Irwin Winkler</th>\n",
       "      <td>1642.0</td>\n",
       "      <td>1.136610</td>\n",
       "      <td>114.0</td>\n",
       "      <td>201.0</td>\n",
       "      <td>5.6</td>\n",
       "      <td>1995.0</td>\n",
       "      <td>3.148127e+07</td>\n",
       "      <td>1.583050e+09</td>\n",
       "      <td>1.551568e+09</td>\n",
       "    </tr>\n",
       "    <tr>\n",
       "      <th>Clyde Geronimi|Hamilton Luske|Wolfgang Reitherman</th>\n",
       "      <td>12230.0</td>\n",
       "      <td>2.631987</td>\n",
       "      <td>79.0</td>\n",
       "      <td>913.0</td>\n",
       "      <td>6.6</td>\n",
       "      <td>1961.0</td>\n",
       "      <td>2.917944e+07</td>\n",
       "      <td>1.574815e+09</td>\n",
       "      <td>1.545635e+09</td>\n",
       "    </tr>\n",
       "    <tr>\n",
       "      <th>Richard Marquand</th>\n",
       "      <td>1892.0</td>\n",
       "      <td>4.828854</td>\n",
       "      <td>135.0</td>\n",
       "      <td>3101.0</td>\n",
       "      <td>7.8</td>\n",
       "      <td>1983.0</td>\n",
       "      <td>7.082424e+07</td>\n",
       "      <td>1.253819e+09</td>\n",
       "      <td>1.182995e+09</td>\n",
       "    </tr>\n",
       "    <tr>\n",
       "      <th>Roger Allers|Rob Minkoff</th>\n",
       "      <td>8587.0</td>\n",
       "      <td>4.782688</td>\n",
       "      <td>89.0</td>\n",
       "      <td>3489.0</td>\n",
       "      <td>7.7</td>\n",
       "      <td>1994.0</td>\n",
       "      <td>6.620002e+07</td>\n",
       "      <td>1.159592e+09</td>\n",
       "      <td>1.093392e+09</td>\n",
       "    </tr>\n",
       "    <tr>\n",
       "      <th>Chris Buck|Jennifer Lee</th>\n",
       "      <td>109445.0</td>\n",
       "      <td>6.112766</td>\n",
       "      <td>102.0</td>\n",
       "      <td>3369.0</td>\n",
       "      <td>7.5</td>\n",
       "      <td>2013.0</td>\n",
       "      <td>1.404050e+08</td>\n",
       "      <td>1.192711e+09</td>\n",
       "      <td>1.052306e+09</td>\n",
       "    </tr>\n",
       "    <tr>\n",
       "      <th>...</th>\n",
       "      <td>...</td>\n",
       "      <td>...</td>\n",
       "      <td>...</td>\n",
       "      <td>...</td>\n",
       "      <td>...</td>\n",
       "      <td>...</td>\n",
       "      <td>...</td>\n",
       "      <td>...</td>\n",
       "      <td>...</td>\n",
       "    </tr>\n",
       "    <tr>\n",
       "      <th>John Bruno</th>\n",
       "      <td>9423.0</td>\n",
       "      <td>0.654013</td>\n",
       "      <td>99.0</td>\n",
       "      <td>60.0</td>\n",
       "      <td>4.9</td>\n",
       "      <td>1999.0</td>\n",
       "      <td>9.817896e+07</td>\n",
       "      <td>1.834073e+07</td>\n",
       "      <td>-7.983823e+07</td>\n",
       "    </tr>\n",
       "    <tr>\n",
       "      <th>David Bowers|Sam Fell</th>\n",
       "      <td>11619.0</td>\n",
       "      <td>1.390297</td>\n",
       "      <td>85.0</td>\n",
       "      <td>488.0</td>\n",
       "      <td>6.0</td>\n",
       "      <td>2006.0</td>\n",
       "      <td>1.611687e+08</td>\n",
       "      <td>6.972365e+07</td>\n",
       "      <td>-9.144505e+07</td>\n",
       "    </tr>\n",
       "    <tr>\n",
       "      <th>Walter Hill|Jack Sholder</th>\n",
       "      <td>10384.0</td>\n",
       "      <td>0.385350</td>\n",
       "      <td>91.0</td>\n",
       "      <td>42.0</td>\n",
       "      <td>4.7</td>\n",
       "      <td>2000.0</td>\n",
       "      <td>1.139663e+08</td>\n",
       "      <td>1.877668e+07</td>\n",
       "      <td>-9.518961e+07</td>\n",
       "    </tr>\n",
       "    <tr>\n",
       "      <th>Aaron Blaise|Robert Walker</th>\n",
       "      <td>10009.0</td>\n",
       "      <td>1.653031</td>\n",
       "      <td>85.0</td>\n",
       "      <td>753.0</td>\n",
       "      <td>6.8</td>\n",
       "      <td>2003.0</td>\n",
       "      <td>1.185353e+08</td>\n",
       "      <td>2.963382e+02</td>\n",
       "      <td>-1.185350e+08</td>\n",
       "    </tr>\n",
       "    <tr>\n",
       "      <th>Sngmoo Lee</th>\n",
       "      <td>46528.0</td>\n",
       "      <td>0.250540</td>\n",
       "      <td>100.0</td>\n",
       "      <td>74.0</td>\n",
       "      <td>6.4</td>\n",
       "      <td>2010.0</td>\n",
       "      <td>4.250000e+08</td>\n",
       "      <td>1.108757e+07</td>\n",
       "      <td>-4.139124e+08</td>\n",
       "    </tr>\n",
       "  </tbody>\n",
       "</table>\n",
       "<p>1713 rows × 9 columns</p>\n",
       "</div>"
      ],
      "text/plain": [
       "                                                         id  popularity  \\\n",
       "director                                                                  \n",
       "Irwin Winkler                                        1642.0    1.136610   \n",
       "Clyde Geronimi|Hamilton Luske|Wolfgang Reitherman   12230.0    2.631987   \n",
       "Richard Marquand                                     1892.0    4.828854   \n",
       "Roger Allers|Rob Minkoff                             8587.0    4.782688   \n",
       "Chris Buck|Jennifer Lee                            109445.0    6.112766   \n",
       "...                                                     ...         ...   \n",
       "John Bruno                                           9423.0    0.654013   \n",
       "David Bowers|Sam Fell                               11619.0    1.390297   \n",
       "Walter Hill|Jack Sholder                            10384.0    0.385350   \n",
       "Aaron Blaise|Robert Walker                          10009.0    1.653031   \n",
       "Sngmoo Lee                                          46528.0    0.250540   \n",
       "\n",
       "                                                   runtime  vote_count  \\\n",
       "director                                                                 \n",
       "Irwin Winkler                                        114.0       201.0   \n",
       "Clyde Geronimi|Hamilton Luske|Wolfgang Reitherman     79.0       913.0   \n",
       "Richard Marquand                                     135.0      3101.0   \n",
       "Roger Allers|Rob Minkoff                              89.0      3489.0   \n",
       "Chris Buck|Jennifer Lee                              102.0      3369.0   \n",
       "...                                                    ...         ...   \n",
       "John Bruno                                            99.0        60.0   \n",
       "David Bowers|Sam Fell                                 85.0       488.0   \n",
       "Walter Hill|Jack Sholder                              91.0        42.0   \n",
       "Aaron Blaise|Robert Walker                            85.0       753.0   \n",
       "Sngmoo Lee                                           100.0        74.0   \n",
       "\n",
       "                                                   vote_average  release_year  \\\n",
       "director                                                                        \n",
       "Irwin Winkler                                               5.6        1995.0   \n",
       "Clyde Geronimi|Hamilton Luske|Wolfgang Reitherman           6.6        1961.0   \n",
       "Richard Marquand                                            7.8        1983.0   \n",
       "Roger Allers|Rob Minkoff                                    7.7        1994.0   \n",
       "Chris Buck|Jennifer Lee                                     7.5        2013.0   \n",
       "...                                                         ...           ...   \n",
       "John Bruno                                                  4.9        1999.0   \n",
       "David Bowers|Sam Fell                                       6.0        2006.0   \n",
       "Walter Hill|Jack Sholder                                    4.7        2000.0   \n",
       "Aaron Blaise|Robert Walker                                  6.8        2003.0   \n",
       "Sngmoo Lee                                                  6.4        2010.0   \n",
       "\n",
       "                                                     budget_adj   revenue_adj  \\\n",
       "director                                                                        \n",
       "Irwin Winkler                                      3.148127e+07  1.583050e+09   \n",
       "Clyde Geronimi|Hamilton Luske|Wolfgang Reitherman  2.917944e+07  1.574815e+09   \n",
       "Richard Marquand                                   7.082424e+07  1.253819e+09   \n",
       "Roger Allers|Rob Minkoff                           6.620002e+07  1.159592e+09   \n",
       "Chris Buck|Jennifer Lee                            1.404050e+08  1.192711e+09   \n",
       "...                                                         ...           ...   \n",
       "John Bruno                                         9.817896e+07  1.834073e+07   \n",
       "David Bowers|Sam Fell                              1.611687e+08  6.972365e+07   \n",
       "Walter Hill|Jack Sholder                           1.139663e+08  1.877668e+07   \n",
       "Aaron Blaise|Robert Walker                         1.185353e+08  2.963382e+02   \n",
       "Sngmoo Lee                                         4.250000e+08  1.108757e+07   \n",
       "\n",
       "                                                         profit  \n",
       "director                                                         \n",
       "Irwin Winkler                                      1.551568e+09  \n",
       "Clyde Geronimi|Hamilton Luske|Wolfgang Reitherman  1.545635e+09  \n",
       "Richard Marquand                                   1.182995e+09  \n",
       "Roger Allers|Rob Minkoff                           1.093392e+09  \n",
       "Chris Buck|Jennifer Lee                            1.052306e+09  \n",
       "...                                                         ...  \n",
       "John Bruno                                        -7.983823e+07  \n",
       "David Bowers|Sam Fell                             -9.144505e+07  \n",
       "Walter Hill|Jack Sholder                          -9.518961e+07  \n",
       "Aaron Blaise|Robert Walker                        -1.185350e+08  \n",
       "Sngmoo Lee                                        -4.139124e+08  \n",
       "\n",
       "[1713 rows x 9 columns]"
      ]
     },
     "execution_count": 22,
     "metadata": {},
     "output_type": "execute_result"
    }
   ],
   "source": [
    "#Grouping data by Director and getting mean profit of the director\n",
    "grpDir=df.groupby('director')\n",
    "grpDir.mean().sort_values(by=['profit'],ascending=False)"
   ]
  },
  {
   "cell_type": "markdown",
   "metadata": {},
   "source": [
    "It seem like the best way to make your movie profitable is to have Irwin Winkler directing it!"
   ]
  },
  {
   "cell_type": "markdown",
   "metadata": {},
   "source": [
    "<a id='conclusions'></a>\n",
    "## Conclusions"
   ]
  },
  {
   "cell_type": "markdown",
   "metadata": {
    "collapsed": true
   },
   "source": [
    "Initial analysis shows slight correlation that higher budget movies seem to have decreased profits for movies with budgets less than 120 million. Beyond that data seems to be scattered. Of course this data is limited to a specific pool a huge number of datapoints were elminated due to lack of budget or revenue data. The data doesn't imply causation in this case but merely correlation. Further analysis is required to also study other effects on profitability. For example actors involved and maybe time of the year that the movie was released.\n",
    "\n",
    "No trustable correlation was found when investigating the relation between ratings and budget. The dtapoints seem to follow the general trend of rating averages which implies that more data points are needed to come up with any reasonable conclusion."
   ]
  }
 ],
 "metadata": {
  "kernelspec": {
   "display_name": "Python 3",
   "language": "python",
   "name": "python3"
  },
  "language_info": {
   "codemirror_mode": {
    "name": "ipython",
    "version": 3
   },
   "file_extension": ".py",
   "mimetype": "text/x-python",
   "name": "python",
   "nbconvert_exporter": "python",
   "pygments_lexer": "ipython3",
   "version": "3.7.6"
  }
 },
 "nbformat": 4,
 "nbformat_minor": 2
}
